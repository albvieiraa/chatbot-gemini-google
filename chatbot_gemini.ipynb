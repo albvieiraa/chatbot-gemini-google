{
  "nbformat": 4,
  "nbformat_minor": 0,
  "metadata": {
    "colab": {
      "provenance": [],
      "authorship_tag": "ABX9TyNfqEW8z8kgjNdy1or/n2KK",
      "include_colab_link": true
    },
    "kernelspec": {
      "name": "python3",
      "display_name": "Python 3"
    },
    "language_info": {
      "name": "python"
    }
  },
  "cells": [
    {
      "cell_type": "markdown",
      "metadata": {
        "id": "view-in-github",
        "colab_type": "text"
      },
      "source": [
        "<a href=\"https://colab.research.google.com/github/albvieiraa/chatbot-gemini-google/blob/main/chatbot_gemini.ipynb\" target=\"_parent\"><img src=\"https://colab.research.google.com/assets/colab-badge.svg\" alt=\"Open In Colab\"/></a>"
      ]
    },
    {
      "cell_type": "code",
      "execution_count": 2,
      "metadata": {
        "colab": {
          "base_uri": "https://localhost:8080/"
        },
        "id": "_Nq3pEimQF4b",
        "outputId": "75b64fdd-0708-4d6e-fd56-3aad42cd4899"
      },
      "outputs": [
        {
          "output_type": "stream",
          "name": "stdout",
          "text": [
            "Requirement already satisfied: google-generativeai in /usr/local/lib/python3.10/dist-packages (0.5.4)\n",
            "Requirement already satisfied: google-ai-generativelanguage==0.6.4 in /usr/local/lib/python3.10/dist-packages (from google-generativeai) (0.6.4)\n",
            "Requirement already satisfied: google-api-core in /usr/local/lib/python3.10/dist-packages (from google-generativeai) (2.11.1)\n",
            "Requirement already satisfied: google-api-python-client in /usr/local/lib/python3.10/dist-packages (from google-generativeai) (2.84.0)\n",
            "Requirement already satisfied: google-auth>=2.15.0 in /usr/local/lib/python3.10/dist-packages (from google-generativeai) (2.27.0)\n",
            "Requirement already satisfied: protobuf in /usr/local/lib/python3.10/dist-packages (from google-generativeai) (3.20.3)\n",
            "Requirement already satisfied: pydantic in /usr/local/lib/python3.10/dist-packages (from google-generativeai) (2.7.1)\n",
            "Requirement already satisfied: tqdm in /usr/local/lib/python3.10/dist-packages (from google-generativeai) (4.66.4)\n",
            "Requirement already satisfied: typing-extensions in /usr/local/lib/python3.10/dist-packages (from google-generativeai) (4.11.0)\n",
            "Requirement already satisfied: proto-plus<2.0.0dev,>=1.22.3 in /usr/local/lib/python3.10/dist-packages (from google-ai-generativelanguage==0.6.4->google-generativeai) (1.23.0)\n",
            "Requirement already satisfied: cachetools<6.0,>=2.0.0 in /usr/local/lib/python3.10/dist-packages (from google-auth>=2.15.0->google-generativeai) (5.3.3)\n",
            "Requirement already satisfied: pyasn1-modules>=0.2.1 in /usr/local/lib/python3.10/dist-packages (from google-auth>=2.15.0->google-generativeai) (0.4.0)\n",
            "Requirement already satisfied: rsa<5,>=3.1.4 in /usr/local/lib/python3.10/dist-packages (from google-auth>=2.15.0->google-generativeai) (4.9)\n",
            "Requirement already satisfied: googleapis-common-protos<2.0.dev0,>=1.56.2 in /usr/local/lib/python3.10/dist-packages (from google-api-core->google-generativeai) (1.63.0)\n",
            "Requirement already satisfied: requests<3.0.0.dev0,>=2.18.0 in /usr/local/lib/python3.10/dist-packages (from google-api-core->google-generativeai) (2.31.0)\n",
            "Requirement already satisfied: httplib2<1dev,>=0.15.0 in /usr/local/lib/python3.10/dist-packages (from google-api-python-client->google-generativeai) (0.22.0)\n",
            "Requirement already satisfied: google-auth-httplib2>=0.1.0 in /usr/local/lib/python3.10/dist-packages (from google-api-python-client->google-generativeai) (0.1.1)\n",
            "Requirement already satisfied: uritemplate<5,>=3.0.1 in /usr/local/lib/python3.10/dist-packages (from google-api-python-client->google-generativeai) (4.1.1)\n",
            "Requirement already satisfied: annotated-types>=0.4.0 in /usr/local/lib/python3.10/dist-packages (from pydantic->google-generativeai) (0.7.0)\n",
            "Requirement already satisfied: pydantic-core==2.18.2 in /usr/local/lib/python3.10/dist-packages (from pydantic->google-generativeai) (2.18.2)\n",
            "Requirement already satisfied: grpcio<2.0dev,>=1.33.2 in /usr/local/lib/python3.10/dist-packages (from google-api-core->google-generativeai) (1.64.0)\n",
            "Requirement already satisfied: grpcio-status<2.0.dev0,>=1.33.2 in /usr/local/lib/python3.10/dist-packages (from google-api-core->google-generativeai) (1.48.2)\n",
            "Requirement already satisfied: pyparsing!=3.0.0,!=3.0.1,!=3.0.2,!=3.0.3,<4,>=2.4.2 in /usr/local/lib/python3.10/dist-packages (from httplib2<1dev,>=0.15.0->google-api-python-client->google-generativeai) (3.1.2)\n",
            "Requirement already satisfied: pyasn1<0.7.0,>=0.4.6 in /usr/local/lib/python3.10/dist-packages (from pyasn1-modules>=0.2.1->google-auth>=2.15.0->google-generativeai) (0.6.0)\n",
            "Requirement already satisfied: charset-normalizer<4,>=2 in /usr/local/lib/python3.10/dist-packages (from requests<3.0.0.dev0,>=2.18.0->google-api-core->google-generativeai) (3.3.2)\n",
            "Requirement already satisfied: idna<4,>=2.5 in /usr/local/lib/python3.10/dist-packages (from requests<3.0.0.dev0,>=2.18.0->google-api-core->google-generativeai) (3.7)\n",
            "Requirement already satisfied: urllib3<3,>=1.21.1 in /usr/local/lib/python3.10/dist-packages (from requests<3.0.0.dev0,>=2.18.0->google-api-core->google-generativeai) (2.0.7)\n",
            "Requirement already satisfied: certifi>=2017.4.17 in /usr/local/lib/python3.10/dist-packages (from requests<3.0.0.dev0,>=2.18.0->google-api-core->google-generativeai) (2024.2.2)\n"
          ]
        }
      ],
      "source": [
        "pip install google-generativeai"
      ]
    },
    {
      "cell_type": "code",
      "source": [
        "import google.generativeai as genai"
      ],
      "metadata": {
        "id": "D3Tu1_exQYCe"
      },
      "execution_count": 3,
      "outputs": []
    },
    {
      "cell_type": "code",
      "source": [
        "from google.colab import userdata\n",
        "chave_api = userdata.get(\"chave_api\")\n",
        "genai.configure(api_key=chave_api)\n"
      ],
      "metadata": {
        "id": "fgUveSPWQncQ"
      },
      "execution_count": 4,
      "outputs": []
    },
    {
      "cell_type": "code",
      "source": [
        "#quais modelos do gemini serão usados\n",
        "for m in genai.list_models():\n",
        "  if 'generateContent' in m.supported_generation_methods:\n",
        "    print(m.name)"
      ],
      "metadata": {
        "colab": {
          "base_uri": "https://localhost:8080/",
          "height": 225
        },
        "id": "tINsP3riRNHX",
        "outputId": "9d155fb3-6876-47e2-ec8a-d94c19875329"
      },
      "execution_count": 5,
      "outputs": [
        {
          "output_type": "stream",
          "name": "stdout",
          "text": [
            "models/gemini-1.0-pro\n",
            "models/gemini-1.0-pro-001\n",
            "models/gemini-1.0-pro-latest\n",
            "models/gemini-1.0-pro-vision-latest\n",
            "models/gemini-1.5-flash\n",
            "models/gemini-1.5-flash-001\n",
            "models/gemini-1.5-flash-latest\n",
            "models/gemini-1.5-pro\n",
            "models/gemini-1.5-pro-001\n",
            "models/gemini-1.5-pro-latest\n",
            "models/gemini-pro\n",
            "models/gemini-pro-vision\n"
          ]
        }
      ]
    },
    {
      "cell_type": "code",
      "source": [
        "#escolher o modelo\n",
        "model = genai.GenerativeModel(\"models/gemini-1.5-pro-latest\")"
      ],
      "metadata": {
        "id": "Apn9el9svign"
      },
      "execution_count": 6,
      "outputs": []
    },
    {
      "cell_type": "code",
      "source": [
        "response = model.generate_content(\"Quem criou os modelos de IA Gemini?\")\n",
        "response.text"
      ],
      "metadata": {
        "colab": {
          "base_uri": "https://localhost:8080/",
          "height": 36
        },
        "id": "FAzXYo3yvryI",
        "outputId": "7c502501-e4ed-48d9-898c-0c3c4d784a7d"
      },
      "execution_count": 7,
      "outputs": [
        {
          "output_type": "execute_result",
          "data": {
            "text/plain": [
              "'O Gemini é um conjunto de modelos de IA criados pelo **Google**. \\n'"
            ],
            "application/vnd.google.colaboratory.intrinsic+json": {
              "type": "string"
            }
          },
          "metadata": {},
          "execution_count": 7
        }
      ]
    },
    {
      "cell_type": "code",
      "source": [
        "chat = model.start_chat(history=[]) #history=[] lista que vai guardar as conversas com o modelo\n",
        "\n",
        "prompt = input(\"Esperando prompt: \")\n",
        "\n",
        "while prompt != \"fim\":\n",
        "  response = chat.send_message(prompt)\n",
        "  print(response.text)\n",
        "  prompt = input(\"Esperando prompt: \")"
      ],
      "metadata": {
        "colab": {
          "base_uri": "https://localhost:8080/",
          "height": 922
        },
        "id": "tlOG7Ojdv6UK",
        "outputId": "3060d38e-bff2-4078-cbb8-dc6bca6bdd11"
      },
      "execution_count": 9,
      "outputs": [
        {
          "name": "stdout",
          "output_type": "stream",
          "text": [
            "Esperando prompt: De que é feita a Terra?\n",
            "A Terra é composta por muitas camadas, semelhantes a uma cebola! Aqui está uma visão geral:\n",
            "\n",
            "**Estrutura principal:**\n",
            "\n",
            "* **Núcleo:** O centro da Terra é um núcleo sólido, composto principalmente de ferro e níquel. A sua temperatura é incrivelmente alta, atingindo cerca de 5.200 graus Celsius. \n",
            "* **Manto:** Envolvendo o núcleo está o manto, uma camada espessa de rocha quente e semissólida. Esta camada é rica em magnésio, silício, ferro e oxigênio. O movimento do manto impulsiona a tectônica de placas, causando terremotos e erupções vulcânicas.\n",
            "* **Crosta:** A camada mais externa da Terra é a crosta, uma fina casca rochosa. É dividida em placas tectónicas que se movem lentamente sobre o manto. É na crosta que vivemos.\n",
            "\n",
            "**Outras camadas importantes:**\n",
            "\n",
            "* **Litosfera:** A litosfera é a camada rígida mais externa da Terra, composta pela crosta e a parte superior do manto.\n",
            "* **Astenosfera:** Abaixo da litosfera encontra-se a astenosfera, uma camada mais dúctil e maleável do manto superior. A litosfera \"flutua\" sobre a astenosfera.\n",
            "\n",
            "**Composição química:**\n",
            "\n",
            "Os elementos mais abundantes na Terra como um todo são:\n",
            "\n",
            "* Ferro (32,1%)\n",
            "* Oxigênio (30,1%)\n",
            "* Silício (15,1%)\n",
            "* Magnésio (13,9%)\n",
            "* Enxofre (2,9%)\n",
            "* Níquel (1,8%)\n",
            "* Cálcio (1,5%)\n",
            "* Alumínio (1,4%)\n",
            "* Outros elementos (1,2%)\n",
            "\n",
            "É importante lembrar que a composição da Terra varia de acordo com a camada em questão. Por exemplo, a crosta é rica em oxigênio e silício, enquanto o núcleo é composto principalmente por ferro.\n",
            "\n",
            "Esperando prompt: e o sol?\n",
            "O Sol é uma estrela, uma gigantesca bola de plasma quente e brilhante.  Diferente da Terra, que é feita principalmente de rocha e metais, o Sol é composto principalmente de:\n",
            "\n",
            "* **Hidrogênio (~70.6%):** O elemento mais leve e abundante no universo, o hidrogênio é o principal combustível do Sol. No núcleo solar, sob imensa pressão e temperatura, átomos de hidrogênio se fundem em hélio, liberando uma enorme quantidade de energia no processo, conhecido como fusão nuclear.\n",
            "* **Hélio (~27.4%):** O segundo elemento mais abundante no universo, o hélio é o produto da fusão nuclear do hidrogênio.\n",
            "* **Outros elementos (~2%):**  Apesar de corresponderem a uma pequena porcentagem da composição do Sol, elementos mais pesados, como oxigênio, carbono, neônio, ferro e outros, também estão presentes.\n",
            "\n",
            "**Estrutura do Sol:**\n",
            "\n",
            "O Sol não possui uma superfície sólida como a Terra.  Ele é dividido em camadas, cada uma com suas características específicas:\n",
            "\n",
            "* **Núcleo:** Localizado no centro do Sol, é onde a fusão nuclear acontece. \n",
            "* **Zona Radiativa:**  A energia gerada no núcleo viaja através desta camada por meio de radiação.\n",
            "* **Zona Convectiva:** Nesta camada, a energia é transportada por convecção, um processo semelhante à água fervendo em uma panela.\n",
            "* **Fotosfera:** A superfície visível do Sol.\n",
            "* **Cromostera:** Uma camada fina e irregular acima da fotosfera, visível durante eclipses solares totais.\n",
            "* **Coroa:** A atmosfera externa do Sol, extremamente quente e extensa, visível também durante eclipses.\n",
            "\n",
            "Em resumo, o Sol é um corpo celeste fascinante e essencial para a vida na Terra. Sua energia, proveniente da fusão nuclear, sustenta a vida em nosso planeta. \n",
            "\n",
            "Esperando prompt: fim\n"
          ]
        }
      ]
    }
  ]
}